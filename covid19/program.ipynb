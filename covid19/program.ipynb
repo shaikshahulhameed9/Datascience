{
 "cells": [
  {
   "cell_type": "code",
   "execution_count": null,
   "id": "ca18b236",
   "metadata": {},
   "outputs": [],
   "source": [
    "import pandas as pd\n",
    "import numpy as np\n",
    "import matplotlib.pyplot as plt\n",
    "import seaborn as sns\n",
    "plt.style.use('seaborn-v0_8')\n"
   ]
  },
  {
   "cell_type": "code",
   "execution_count": null,
   "id": "6b8e6174",
   "metadata": {},
   "outputs": [],
   "source": [
    "confirmed = pd.read_csv(\"covid19_Confirmed_dataset.csv\")\n",
    "deaths = pd.read_csv(\"covid19_deaths_dataset.csv\")\n",
    "happiness = pd.read_csv(\"worldwide_happiness_report.csv\")\n",
    "print(\"Confirmed Cases:\")\n",
    "display(confirmed.head())\n",
    "print(\"\\nDeaths:\")\n",
    "display(deaths.head())\n",
    "print(\"\\nHappiness Report:\")\n",
    "display(happiness.head())"
   ]
  },
  {
   "cell_type": "code",
   "execution_count": null,
   "id": "99dba4c2",
   "metadata": {},
   "outputs": [],
   "source": [
    "confirmed = confirmed.drop(columns=['Province/State', 'Lat', 'Long'], errors='ignore')\n",
    "deaths = deaths.drop(columns=['Province/State', 'Lat', 'Long'], errors='ignore')\n",
    "confirmed = confirmed.groupby('Country/Region').sum().reset_index()\n",
    "deaths = deaths.groupby('Country/Region').sum().reset_index()\n",
    "confirmed.rename(columns={'Country/Region': 'Country'}, inplace=True)\n",
    "deaths.rename(columns={'Country/Region': 'Country'}, inplace=True)\n",
    "latest_confirmed = confirmed[['Country', confirmed.columns[-1]]]\n",
    "latest_deaths = deaths[['Country', deaths.columns[-1]]]\n",
    "latest_confirmed.columns = ['Country', 'TotalConfirmed']\n",
    "latest_deaths.columns = ['Country', 'TotalDeaths']\n",
    "covid_df = pd.merge(latest_confirmed, latest_deaths, on='Country')\n",
    "covid_df.head()\n"
   ]
  },
  {
   "cell_type": "code",
   "execution_count": null,
   "id": "6766663a",
   "metadata": {},
   "outputs": [],
   "source": [
    "print(\"COVID Summary:\")\n",
    "display(covid_df.describe())\n",
    "top_confirmed = covid_df.sort_values(by='TotalConfirmed', ascending=False).head(10)\n",
    "plt.figure(figsize=(10,5))\n",
    "sns.barplot(x='TotalConfirmed', y='Country', data=top_confirmed, palette='Reds_r')\n",
    "plt.title(\"Top 10 Countries by COVID-19 Confirmed Cases\")\n",
    "plt.xlabel(\"Total Confirmed Cases\")\n",
    "plt.ylabel(\"Country\")\n",
    "plt.show()"
   ]
  },
  {
   "cell_type": "code",
   "execution_count": null,
   "id": "36575c30",
   "metadata": {},
   "outputs": [],
   "source": [
    "happiness.columns = [col.strip().replace(' ', '_') for col in happiness.columns]\n",
    "merged_df = pd.merge(happiness, covid_df, on='Country', how='inner')\n",
    "merged_df.head()\n"
   ]
  },
  {
   "cell_type": "code",
   "execution_count": null,
   "id": "bcff517a",
   "metadata": {},
   "outputs": [],
   "source": [
    "corr = merged_df[['Score', 'GDP_per_capita', 'Social_support', 'Healthy_life_expectancy',\n",
    "                  'Freedom_to_make_life_choices', 'Generosity', 'Perceptions_of_corruption',\n",
    "                  'TotalConfirmed', 'TotalDeaths']].corr()\n",
    "\n",
    "plt.figure(figsize=(10,8))\n",
    "sns.heatmap(corr, annot=True, cmap='coolwarm', fmt='.2f')\n",
    "plt.title(\"Correlation Between Happiness Factors and COVID-19 Impact\")\n",
    "plt.show()\n"
   ]
  },
  {
   "cell_type": "code",
   "execution_count": null,
   "id": "4bdeecf9",
   "metadata": {},
   "outputs": [],
   "source": [
    "plt.figure(figsize=(12,5))\n",
    "plt.subplot(1,2,1)\n",
    "sns.scatterplot(x='GDP_per_capita', y='TotalDeaths', data=merged_df)\n",
    "plt.title(\"GDP vs COVID-19 Deaths\")\n",
    "plt.subplot(1,2,2)\n",
    "sns.scatterplot(x='Score', y='TotalDeaths', data=merged_df)\n",
    "plt.title(\"Happiness Score vs COVID-19 Deaths\")\n",
    "plt.tight_layout()\n",
    "plt.show()"
   ]
  },
  {
   "cell_type": "code",
   "execution_count": null,
   "id": "6bb4e53a",
   "metadata": {},
   "outputs": [],
   "source": [
    "insight = merged_df.sort_values(by=['Score', 'TotalDeaths'], ascending=[False, True]).head(10)\n",
    "print(\"Countries with High Happiness & Low Deaths:\")\n",
    "display(insight[['Country', 'Score', 'TotalDeaths', 'GDP_per_capita']])\n"
   ]
  }
 ],
 "metadata": {
  "language_info": {
   "name": "python"
  }
 },
 "nbformat": 4,
 "nbformat_minor": 5
}
