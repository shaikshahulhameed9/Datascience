{
 "cells": [
  {
   "cell_type": "code",
   "execution_count": null,
   "id": "c7c0c201",
   "metadata": {},
   "outputs": [],
   "source": [
    "import numpy as np\n",
    "import matplotlib.pyplot as plt"
   ]
  },
  {
   "cell_type": "code",
   "execution_count": null,
   "id": "57d9dcd3",
   "metadata": {},
   "outputs": [],
   "source": [
    "A = np.array([\n",
    "    [0,1,1,1,1,0],\n",
    "    [1,0,0,0,0,1],\n",
    "    [1,1,1,1,1,1],\n",
    "    [1,0,0,0,0,1],\n",
    "    [1,0,0,0,0,1]\n",
    "]).reshape(30, 1)\n",
    "\n",
    "B = np.array([\n",
    "    [1,1,1,1,0,0],\n",
    "    [1,0,0,0,1,0],\n",
    "    [1,1,1,1,0,0],\n",
    "    [1,0,0,0,1,0],\n",
    "    [1,1,1,1,0,0]\n",
    "]).reshape(30, 1)\n",
    "\n",
    "C = np.array([\n",
    "    [0,1,1,1,1,1],\n",
    "    [1,0,0,0,0,0],\n",
    "    [1,0,0,0,0,0],\n",
    "    [1,0,0,0,0,0],\n",
    "    [0,1,1,1,1,1]\n",
    "]).reshape(30, 1)\n",
    "\n",
    "X = np.hstack([A, B, C]).T  \n",
    "y = np.array([[1,0,0], [0,1,0], [0,0,1]])  \n"
   ]
  },
  {
   "cell_type": "code",
   "execution_count": null,
   "id": "31b225a2",
   "metadata": {},
   "outputs": [],
   "source": [
    "def sigmoid(x):\n",
    "    return 1 / (1 + np.exp(-x))\n",
    "\n",
    "def sigmoid_derivative(x):\n",
    "    return x * (1 - x)\n"
   ]
  },
  {
   "cell_type": "code",
   "execution_count": null,
   "id": "ac86d17f",
   "metadata": {},
   "outputs": [],
   "source": [
    "np.random.seed(42)\n",
    "\n",
    "input_size = 30\n",
    "hidden_size = 10\n",
    "output_size = 3\n",
    "learning_rate = 0.5\n",
    "epochs = 2000\n",
    "\n",
    "# Initialize weights & biases\n",
    "W1 = np.random.randn(input_size, hidden_size)\n",
    "b1 = np.zeros((1, hidden_size))\n",
    "W2 = np.random.randn(hidden_size, output_size)\n",
    "b2 = np.zeros((1, output_size))\n"
   ]
  },
  {
   "cell_type": "code",
   "execution_count": null,
   "id": "14e1e23f",
   "metadata": {},
   "outputs": [],
   "source": [
    "losses = []\n",
    "accuracies = []\n",
    "\n",
    "for epoch in range(epochs):\n",
    "    z1 = np.dot(X, W1) + b1\n",
    "    a1 = sigmoid(z1)\n",
    "    z2 = np.dot(a1, W2) + b2\n",
    "    a2 = sigmoid(z2)\n",
    "    \n",
    "    loss = np.mean((y - a2)**2)\n",
    "    losses.append(loss)\n",
    "    \n",
    "    preds = np.argmax(a2, axis=1)\n",
    "    targets = np.argmax(y, axis=1)\n",
    "    acc = np.mean(preds == targets)\n",
    "    accuracies.append(acc)\n",
    "    \n",
    "    error_output = (y - a2) * sigmoid_derivative(a2)\n",
    "    error_hidden = np.dot(error_output, W2.T) * sigmoid_derivative(a1)\n",
    "    \n",
    "    W2 += np.dot(a1.T, error_output) * learning_rate\n",
    "    b2 += np.sum(error_output, axis=0, keepdims=True) * learning_rate\n",
    "    W1 += np.dot(X.T, error_hidden) * learning_rate\n",
    "    b1 += np.sum(error_hidden, axis=0, keepdims=True) * learning_rate\n",
    "    \n",
    "    if epoch % 500 == 0:\n",
    "        print(f\"Epoch {epoch}, Loss: {loss:.4f}, Accuracy: {acc*100:.2f}%\")\n"
   ]
  },
  {
   "cell_type": "code",
   "execution_count": null,
   "id": "c7a1d69b",
   "metadata": {},
   "outputs": [],
   "source": [
    "plt.figure(figsize=(12,4))\n",
    "plt.subplot(1,2,1)\n",
    "plt.plot(losses)\n",
    "plt.title(\"Loss over epochs\")\n",
    "plt.xlabel(\"Epoch\")\n",
    "plt.ylabel(\"Loss\")\n",
    "\n",
    "plt.subplot(1,2,2)\n",
    "plt.plot(accuracies)\n",
    "plt.title(\"Accuracy over epochs\")\n",
    "plt.xlabel(\"Epoch\")\n",
    "plt.ylabel(\"Accuracy\")\n",
    "\n",
    "plt.show()\n"
   ]
  },
  {
   "cell_type": "code",
   "execution_count": null,
   "id": "61e2dc3f",
   "metadata": {},
   "outputs": [],
   "source": [
    "def predict(letter):\n",
    "    z1 = np.dot(letter.T, W1) + b1\n",
    "    a1 = sigmoid(z1)\n",
    "    z2 = np.dot(a1, W2) + b2\n",
    "    output = sigmoid(z2)\n",
    "    return np.argmax(output), output\n",
    "\n",
    "test_letters = [A, B, C]\n",
    "names = [\"A\", \"B\", \"C\"]\n",
    "\n",
    "for i, letter in enumerate(test_letters):\n",
    "    pred_idx, output = predict(letter)\n",
    "    print(f\"True: {names[i]}, Predicted: {names[pred_idx]}, Output: {output.round(3)}\")\n",
    "    plt.imshow(letter.reshape(5,6), cmap='gray')\n",
    "    plt.title(f\"True: {names[i]} | Predicted: {names[pred_idx]}\")\n",
    "    plt.axis('off')\n",
    "    plt.show()\n"
   ]
  }
 ],
 "metadata": {
  "language_info": {
   "name": "python"
  }
 },
 "nbformat": 4,
 "nbformat_minor": 5
}
